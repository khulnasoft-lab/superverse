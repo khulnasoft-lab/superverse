{
    "cells": [
        {
            "cell_type": "markdown",
            "metadata": {},
            "source": [
                "# Download Metavision Assets\n",
                "\n",
                "---\n",
                "\n",
                "[![Colab](https://colab.research.google.com/assets/colab-badge.svg)](https://colab.research.google.com/github/khulnasoft/metavision/blob/develop/docs/notebooks/download-metavision-assets.ipynb)\n",
                "\n",
                "When experimenting with interesting and useful features of the Metavision package, it's important to have some sort of image or video data to experiment with. Luckily for us, Metavision ships with [Assets](https://metavision.khulnasoft.com/latest/assets/)! Assets is a collection of videos that you can utilize to start experimenting with the various features Metavision has to offer. Let's take a look at how to use this resource.\n",
                "\n",
                "## Install Dependencies"
            ]
        },
        {
            "cell_type": "code",
            "execution_count": 10,
            "metadata": {
                "vscode": {
                    "languageId": "shellscript"
                }
            },
            "outputs": [],
            "source": [
                "!pip install -q \"metavision[assets]\""
            ]
        },
        {
            "cell_type": "markdown",
            "metadata": {},
            "source": [
                "## Download a Video\n",
                "\n",
                "From here we can download and utilize a video asset directly from a python script! Note below that we're utilizing the method `download_assets` to download the `VideoAssets.SUBWAY` video to our local directory. This method returns the file path, so we can then utilize this path for additional experimentation. From here, you will see a video asset to experiment with in your local directory. "
            ]
        },
        {
            "cell_type": "code",
            "execution_count": null,
            "metadata": {},
            "outputs": [],
            "source": [
                "from metavision.assets import download_assets, VideoAssets\n",
                "\n",
                "# Download the a video of the subway.\n",
                "path_to_video = download_assets(VideoAssets.SUBWAY)"
            ]
        },
        {
            "cell_type": "markdown",
            "metadata": {},
            "source": [
                "With this, we now have a high quality video asset for use in demos. Let's take a look at what we downloaded. Keep in mind that the video preview below works only in the web version of the cookbooks and not in Google Colab.\n"
            ]
        },
        {
            "cell_type": "markdown",
            "metadata": {},
            "source": [
                "<div style=\"display: flex; justify-content: center;\">\n",
                "    <video controls width=\"320\" height=\"240\">\n",
                "        <source\n",
                "            src=\"https://media.khulnasoft.com/metavision/video-examples/subway.mp4\"\n",
                "            type=\"video/mp4\"\n",
                "        >\n",
                "    </video>\n",
                "</div>"
            ]
        },
        {
            "cell_type": "markdown",
            "metadata": {},
            "source": [
                "We're now equipt with a video asset from Metavision to run some experiments on! For more information on available assets, visit the [Metavision API Reference](https://metavision.khulnasoft.com/latest/assets). Happy building!"
            ]
        }
    ],
    "metadata": {
        "kernelspec": {
            "display_name": "Python 3",
            "language": "python",
            "name": "python3"
        },
        "language_info": {
            "codemirror_mode": {
                "name": "ipython",
                "version": 3
            },
            "file_extension": ".py",
            "mimetype": "text/x-python",
            "name": "python",
            "nbconvert_exporter": "python",
            "pygments_lexer": "ipython3",
            "version": "3.11.8"
        }
    },
    "nbformat": 4,
    "nbformat_minor": 2
}
